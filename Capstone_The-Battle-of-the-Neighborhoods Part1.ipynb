{
    "cells": [
        {
            "cell_type": "markdown",
            "metadata": {},
            "source": "# Capstone Project - The Battle of the Neighborhoods (Week 1)\n### Applied Data Science Capstone by IBM/Coursera"
        },
        {
            "cell_type": "markdown",
            "metadata": {},
            "source": "## Table of contents\n* [Introduction: Business Problem](#introduction)\n* [Data](#data)"
        },
        {
            "cell_type": "markdown",
            "metadata": {},
            "source": "\n\n## Introduction: Business Problem <a name=\"introduction\"></a>"
        },
        {
            "cell_type": "markdown",
            "metadata": {},
            "source": "Covid-19 has been a new viral disease that has impact the world in 2020. World has come to a standstill with travel restrictions in all countries, tens of thousands are infected everyday and thousands being deceased. Even after ten months start of this pandemic, the number of cases are still on rise. \n\nIn this project we will try to find the Covid cases in Ontario. Specifically, in this report we will review few of the **health center regions in Ontario province** that have huge number of cases and we use geocoding to view the **distributionof hopsitial** in this areas.\n\nWe will use our data science powers to generate a few most promissing neighborhoods based on this criteria. And decide the possible location to estabilish  temporary medical centers to handle emergency medical crisis."
        },
        {
            "cell_type": "markdown",
            "metadata": {},
            "source": "## Data <a name=\"data\"></a>"
        },
        {
            "cell_type": "markdown",
            "metadata": {},
            "source": "Based on definition of our problem, factors that will influence our decission are:\n* number of Covid cases in each of Health region by age groups\n* number of hospitals and distance to Health region in the neighborhood\n* distance of hpostial from Health Center\n\nWe decided to use regularly spaced grid of locations, centered around Health Region.\n\nFollowing data sources will be needed to extract/generate the required information:\n* centers of candidate areas will be generated algorithmically and approximate addresses of centers of those areas will be obtained using **Google Maps API reverse geocoding**\n* number of restaurants and their type and location in every neighborhood will be obtained using **Foursquare API**\n* Latest Covid-19 cases from the **Torono Health Region** offical website."
        },
        {
            "cell_type": "code",
            "execution_count": null,
            "metadata": {},
            "outputs": [],
            "source": ""
        }
    ],
    "metadata": {
        "kernelspec": {
            "display_name": "Python 3.7",
            "language": "python",
            "name": "python3"
        },
        "language_info": {
            "codemirror_mode": {
                "name": "ipython",
                "version": 3
            },
            "file_extension": ".py",
            "mimetype": "text/x-python",
            "name": "python",
            "nbconvert_exporter": "python",
            "pygments_lexer": "ipython3",
            "version": "3.7.9"
        }
    },
    "nbformat": 4,
    "nbformat_minor": 4
}